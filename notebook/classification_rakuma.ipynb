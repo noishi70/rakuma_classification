{
 "cells": [
  {
   "cell_type": "markdown",
   "metadata": {},
   "source": [
    "# ラクマの分類タスク\n"
   ]
  },
  {
   "cell_type": "markdown",
   "metadata": {},
   "source": [
    "## インポート\n"
   ]
  },
  {
   "cell_type": "code",
   "execution_count": 1,
   "metadata": {},
   "outputs": [],
   "source": [
    "import pandas as pd\n",
    "from collections import Counter\n",
    "import string\n",
    "import jctconv\n",
    "import emoji\n",
    "import re\n",
    "import os\n",
    "from pathlib import Path\n",
    "\n",
    "BASE_DIR = Path().resolve().parent\n",
    "os.chdir(BASE_DIR)\n"
   ]
  },
  {
   "cell_type": "markdown",
   "metadata": {},
   "source": [
    "## データチェック\n"
   ]
  },
  {
   "cell_type": "code",
   "execution_count": 2,
   "metadata": {},
   "outputs": [],
   "source": [
    "df = pd.read_csv(\"data/rakuma.csv\")\n"
   ]
  },
  {
   "cell_type": "code",
   "execution_count": 3,
   "metadata": {},
   "outputs": [],
   "source": [
    "ctg_df = df.category.value_counts().reset_index()  # reset_indexでデータフレーム形式になる\n",
    "ctg_df = ctg_df.rename(columns={\"index\": \"category_name\", \"category\": \"num\"})\n"
   ]
  },
  {
   "cell_type": "code",
   "execution_count": 4,
   "metadata": {},
   "outputs": [],
   "source": [
    "df_ctg_1000 = ctg_df[ctg_df.num > 1000]\n"
   ]
  },
  {
   "cell_type": "code",
   "execution_count": 5,
   "metadata": {},
   "outputs": [
    {
     "data": {
      "text/plain": [
       "63006"
      ]
     },
     "execution_count": 5,
     "metadata": {},
     "output_type": "execute_result"
    }
   ],
   "source": [
    "df_ctg_1000.num.sum()\n"
   ]
  },
  {
   "cell_type": "code",
   "execution_count": 6,
   "metadata": {},
   "outputs": [],
   "source": [
    "data = df.merge(\n",
    "    df_ctg_1000[[\"category_name\"]], left_on=\"category\", right_on=\"category_name\"\n",
    ")\n"
   ]
  },
  {
   "cell_type": "code",
   "execution_count": 7,
   "metadata": {},
   "outputs": [
    {
     "data": {
      "text/plain": [
       "22"
      ]
     },
     "execution_count": 7,
     "metadata": {},
     "output_type": "execute_result"
    }
   ],
   "source": [
    "data.category.nunique()\n"
   ]
  },
  {
   "cell_type": "markdown",
   "metadata": {},
   "source": [
    "## テキストの前処理\n"
   ]
  },
  {
   "cell_type": "code",
   "execution_count": 8,
   "metadata": {},
   "outputs": [],
   "source": [
    "emojis = \"\".join(emoji.EMOJI_DATA.keys())\n"
   ]
  },
  {
   "cell_type": "code",
   "execution_count": 9,
   "metadata": {},
   "outputs": [],
   "source": [
    "puncs = string.punctuation + \"◆▼★②●☆■★【】『』「」、♪\"\n"
   ]
  },
  {
   "cell_type": "code",
   "execution_count": 10,
   "metadata": {},
   "outputs": [],
   "source": [
    "def han2zen(txt):\n",
    "    txt = jctconv.h2z(txt, kana=True, digit=False, ascii=False)\n",
    "    return jctconv.z2h(txt, kana=False, digit=True, ascii=True)\n",
    "\n",
    "\n",
    "def remove_signs(txt):\n",
    "    rm_signs = emojis + puncs\n",
    "    for s in rm_signs:\n",
    "        txt = txt.replace(s, \" \")\n",
    "    return txt\n",
    "\n",
    "\n",
    "def clean_txt(txt):\n",
    "    txt = han2zen(txt)\n",
    "    txt = remove_signs(txt)\n",
    "    txt_list = txt.upper().split()\n",
    "    txt_list = [\n",
    "        x for x in txt_list if len(x) > 1 and re.search(r\"[亜-熙ぁ-んァ-ヶa-zA-Z]\", x)\n",
    "    ]\n",
    "    return \" \".join(list(Counter(txt_list)))\n"
   ]
  },
  {
   "cell_type": "code",
   "execution_count": 11,
   "metadata": {},
   "outputs": [
    {
     "name": "stdout",
     "output_type": "stream",
     "text": [
      "t:  bike bike handle saddle 2020 #\n",
      "BIKE HANDLE SADDLE\n"
     ]
    }
   ],
   "source": [
    "t = \" \".join([\"bike\", \"bike\", \"handle\", \"saddle\", \"2020\", \"#\"])\n",
    "print(\"t: \", t)\n",
    "print(clean_txt(t))\n"
   ]
  },
  {
   "cell_type": "code",
   "execution_count": 12,
   "metadata": {},
   "outputs": [
    {
     "data": {
      "text/plain": [
       "0       テレカ 未使用品 仮面ライダー 生誕20周年 東映ビデオ販売 販促用非売品\n",
       "1       送料無料 新品 DVD Perfume WORLD TOUR 1st 初回\n",
       "2                      ☆ウルトラマン☆レーザーディスク ジャンク？\n",
       "3         MAISHA （マイシャ）Sadao Watanabe　渡辺貞夫★LD\n",
       "4    LD★PARKER'S MOOD（パーカーズ・ムード）LIVE AT BRAVA\n",
       "Name: title, dtype: object"
      ]
     },
     "execution_count": 12,
     "metadata": {},
     "output_type": "execute_result"
    }
   ],
   "source": [
    "data.title.head()\n"
   ]
  },
  {
   "cell_type": "code",
   "execution_count": 13,
   "metadata": {},
   "outputs": [],
   "source": [
    "data[\"clean_title\"]=data.title.apply(clean_txt)"
   ]
  },
  {
   "cell_type": "code",
   "execution_count": 14,
   "metadata": {},
   "outputs": [],
   "source": [
    "from sklearn.pipeline import Pipeline\n",
    "from sklearn.metrics import classification_report\n",
    "from sklearn.model_selection import train_test_split\n",
    "from sklearn.feature_extraction.text import CountVectorizer, TfidfTransformer\n",
    "from sklearn.ensemble import RandomForestClassifier\n",
    "from sklearn.naive_bayes import MultinomialNB\n"
   ]
  },
  {
   "cell_type": "code",
   "execution_count": 15,
   "metadata": {},
   "outputs": [],
   "source": [
    "category2idx = {c: idx for idx, c in enumerate(data.category_name.unique())}\n",
    "idx2category = {idx: c for idx, c in enumerate(data.category_name.unique())}\n"
   ]
  },
  {
   "cell_type": "code",
   "execution_count": 16,
   "metadata": {},
   "outputs": [],
   "source": [
    "X=data.clean_title\n",
    "y=data.category_name.apply(lambda x:category2idx[x])\n"
   ]
  },
  {
   "cell_type": "markdown",
   "metadata": {},
   "source": [
    "## データを学習させる"
   ]
  },
  {
   "cell_type": "code",
   "execution_count": 17,
   "metadata": {},
   "outputs": [],
   "source": [
    "X_train, X_test, y_train, y_test = train_test_split(\n",
    "    X, y, test_size=0.3, random_state=42,shuffle=True\n",
    ")"
   ]
  },
  {
   "cell_type": "code",
   "execution_count": 18,
   "metadata": {},
   "outputs": [
    {
     "data": {
      "text/plain": [
       "12762      MINT 新品未使用 メダル大集合 ドラえもん ポケモン カーズ\n",
       "11121                 すみっコぐらし ブラシ付ミラー 新品未使用\n",
       "47140        ADIDAS PHARRELL HUMAN RACE NMD\n",
       "62381                          PS ウイニングイレブン\n",
       "22213                       ジョジョと奇妙な冒険 シーザー\n",
       "                        ...                \n",
       "62570    コールオブデューティアドバンスド・ウォーフェア CALLOFDUTY\n",
       "38158          新品 鴻池剛 ニャアアアン 猫♡ぽんた♡スウェット♡半袖\n",
       "860               廃盤LP 沢田研二 AUX FEMMES 女たちよ\n",
       "15795         MINT レア キリ番 マイメロディ バースデーマスコット\n",
       "56422               掛軸 小林雄山 四季花図 絹本 共箱付 掛け軸\n",
       "Name: clean_title, Length: 44104, dtype: object"
      ]
     },
     "execution_count": 18,
     "metadata": {},
     "output_type": "execute_result"
    }
   ],
   "source": [
    "X_train"
   ]
  },
  {
   "cell_type": "code",
   "execution_count": 19,
   "metadata": {},
   "outputs": [],
   "source": [
    "pipeline = Pipeline(\n",
    "    [\n",
    "        (\"bow\", CountVectorizer()),\n",
    "        (\"tfidf\", TfidfTransformer()),\n",
    "        (\"classifier\", RandomForestClassifier()),\n",
    "    ]\n",
    ")"
   ]
  },
  {
   "cell_type": "code",
   "execution_count": 20,
   "metadata": {},
   "outputs": [
    {
     "name": "stdout",
     "output_type": "stream",
     "text": [
      "<class 'pandas.core.series.Series'>\n",
      "Int64Index: 44104 entries, 12762 to 56422\n",
      "Series name: category_name\n",
      "Non-Null Count  Dtype\n",
      "--------------  -----\n",
      "44104 non-null  int64\n",
      "dtypes: int64(1)\n",
      "memory usage: 689.1 KB\n"
     ]
    }
   ],
   "source": [
    "y_train.info()"
   ]
  },
  {
   "cell_type": "code",
   "execution_count": 21,
   "metadata": {},
   "outputs": [
    {
     "data": {
      "text/html": [
       "<style>#sk-container-id-1 {color: black;background-color: white;}#sk-container-id-1 pre{padding: 0;}#sk-container-id-1 div.sk-toggleable {background-color: white;}#sk-container-id-1 label.sk-toggleable__label {cursor: pointer;display: block;width: 100%;margin-bottom: 0;padding: 0.3em;box-sizing: border-box;text-align: center;}#sk-container-id-1 label.sk-toggleable__label-arrow:before {content: \"▸\";float: left;margin-right: 0.25em;color: #696969;}#sk-container-id-1 label.sk-toggleable__label-arrow:hover:before {color: black;}#sk-container-id-1 div.sk-estimator:hover label.sk-toggleable__label-arrow:before {color: black;}#sk-container-id-1 div.sk-toggleable__content {max-height: 0;max-width: 0;overflow: hidden;text-align: left;background-color: #f0f8ff;}#sk-container-id-1 div.sk-toggleable__content pre {margin: 0.2em;color: black;border-radius: 0.25em;background-color: #f0f8ff;}#sk-container-id-1 input.sk-toggleable__control:checked~div.sk-toggleable__content {max-height: 200px;max-width: 100%;overflow: auto;}#sk-container-id-1 input.sk-toggleable__control:checked~label.sk-toggleable__label-arrow:before {content: \"▾\";}#sk-container-id-1 div.sk-estimator input.sk-toggleable__control:checked~label.sk-toggleable__label {background-color: #d4ebff;}#sk-container-id-1 div.sk-label input.sk-toggleable__control:checked~label.sk-toggleable__label {background-color: #d4ebff;}#sk-container-id-1 input.sk-hidden--visually {border: 0;clip: rect(1px 1px 1px 1px);clip: rect(1px, 1px, 1px, 1px);height: 1px;margin: -1px;overflow: hidden;padding: 0;position: absolute;width: 1px;}#sk-container-id-1 div.sk-estimator {font-family: monospace;background-color: #f0f8ff;border: 1px dotted black;border-radius: 0.25em;box-sizing: border-box;margin-bottom: 0.5em;}#sk-container-id-1 div.sk-estimator:hover {background-color: #d4ebff;}#sk-container-id-1 div.sk-parallel-item::after {content: \"\";width: 100%;border-bottom: 1px solid gray;flex-grow: 1;}#sk-container-id-1 div.sk-label:hover label.sk-toggleable__label {background-color: #d4ebff;}#sk-container-id-1 div.sk-serial::before {content: \"\";position: absolute;border-left: 1px solid gray;box-sizing: border-box;top: 0;bottom: 0;left: 50%;z-index: 0;}#sk-container-id-1 div.sk-serial {display: flex;flex-direction: column;align-items: center;background-color: white;padding-right: 0.2em;padding-left: 0.2em;position: relative;}#sk-container-id-1 div.sk-item {position: relative;z-index: 1;}#sk-container-id-1 div.sk-parallel {display: flex;align-items: stretch;justify-content: center;background-color: white;position: relative;}#sk-container-id-1 div.sk-item::before, #sk-container-id-1 div.sk-parallel-item::before {content: \"\";position: absolute;border-left: 1px solid gray;box-sizing: border-box;top: 0;bottom: 0;left: 50%;z-index: -1;}#sk-container-id-1 div.sk-parallel-item {display: flex;flex-direction: column;z-index: 1;position: relative;background-color: white;}#sk-container-id-1 div.sk-parallel-item:first-child::after {align-self: flex-end;width: 50%;}#sk-container-id-1 div.sk-parallel-item:last-child::after {align-self: flex-start;width: 50%;}#sk-container-id-1 div.sk-parallel-item:only-child::after {width: 0;}#sk-container-id-1 div.sk-dashed-wrapped {border: 1px dashed gray;margin: 0 0.4em 0.5em 0.4em;box-sizing: border-box;padding-bottom: 0.4em;background-color: white;}#sk-container-id-1 div.sk-label label {font-family: monospace;font-weight: bold;display: inline-block;line-height: 1.2em;}#sk-container-id-1 div.sk-label-container {text-align: center;}#sk-container-id-1 div.sk-container {/* jupyter's `normalize.less` sets `[hidden] { display: none; }` but bootstrap.min.css set `[hidden] { display: none !important; }` so we also need the `!important` here to be able to override the default hidden behavior on the sphinx rendered scikit-learn.org. See: https://github.com/scikit-learn/scikit-learn/issues/21755 */display: inline-block !important;position: relative;}#sk-container-id-1 div.sk-text-repr-fallback {display: none;}</style><div id=\"sk-container-id-1\" class=\"sk-top-container\"><div class=\"sk-text-repr-fallback\"><pre>Pipeline(steps=[(&#x27;bow&#x27;, CountVectorizer()), (&#x27;tfidf&#x27;, TfidfTransformer()),\n",
       "                (&#x27;classifier&#x27;, RandomForestClassifier())])</pre><b>In a Jupyter environment, please rerun this cell to show the HTML representation or trust the notebook. <br />On GitHub, the HTML representation is unable to render, please try loading this page with nbviewer.org.</b></div><div class=\"sk-container\" hidden><div class=\"sk-item sk-dashed-wrapped\"><div class=\"sk-label-container\"><div class=\"sk-label sk-toggleable\"><input class=\"sk-toggleable__control sk-hidden--visually\" id=\"sk-estimator-id-1\" type=\"checkbox\" ><label for=\"sk-estimator-id-1\" class=\"sk-toggleable__label sk-toggleable__label-arrow\">Pipeline</label><div class=\"sk-toggleable__content\"><pre>Pipeline(steps=[(&#x27;bow&#x27;, CountVectorizer()), (&#x27;tfidf&#x27;, TfidfTransformer()),\n",
       "                (&#x27;classifier&#x27;, RandomForestClassifier())])</pre></div></div></div><div class=\"sk-serial\"><div class=\"sk-item\"><div class=\"sk-estimator sk-toggleable\"><input class=\"sk-toggleable__control sk-hidden--visually\" id=\"sk-estimator-id-2\" type=\"checkbox\" ><label for=\"sk-estimator-id-2\" class=\"sk-toggleable__label sk-toggleable__label-arrow\">CountVectorizer</label><div class=\"sk-toggleable__content\"><pre>CountVectorizer()</pre></div></div></div><div class=\"sk-item\"><div class=\"sk-estimator sk-toggleable\"><input class=\"sk-toggleable__control sk-hidden--visually\" id=\"sk-estimator-id-3\" type=\"checkbox\" ><label for=\"sk-estimator-id-3\" class=\"sk-toggleable__label sk-toggleable__label-arrow\">TfidfTransformer</label><div class=\"sk-toggleable__content\"><pre>TfidfTransformer()</pre></div></div></div><div class=\"sk-item\"><div class=\"sk-estimator sk-toggleable\"><input class=\"sk-toggleable__control sk-hidden--visually\" id=\"sk-estimator-id-4\" type=\"checkbox\" ><label for=\"sk-estimator-id-4\" class=\"sk-toggleable__label sk-toggleable__label-arrow\">RandomForestClassifier</label><div class=\"sk-toggleable__content\"><pre>RandomForestClassifier()</pre></div></div></div></div></div></div></div>"
      ],
      "text/plain": [
       "Pipeline(steps=[('bow', CountVectorizer()), ('tfidf', TfidfTransformer()),\n",
       "                ('classifier', RandomForestClassifier())])"
      ]
     },
     "execution_count": 21,
     "metadata": {},
     "output_type": "execute_result"
    }
   ],
   "source": [
    "pipeline.fit(X_train,y_train)"
   ]
  },
  {
   "cell_type": "code",
   "execution_count": 22,
   "metadata": {},
   "outputs": [],
   "source": [
    "pred = pipeline.predict(X_test)"
   ]
  },
  {
   "cell_type": "code",
   "execution_count": 23,
   "metadata": {},
   "outputs": [
    {
     "name": "stdout",
     "output_type": "stream",
     "text": [
      "              precision    recall  f1-score   support\n",
      "\n",
      "           0       0.85      0.71      0.77       370\n",
      "           1       0.90      0.93      0.91      1077\n",
      "           2       0.91      0.80      0.85       377\n",
      "           3       0.89      0.87      0.88       632\n",
      "           4       0.77      0.83      0.80      3252\n",
      "           5       0.73      0.38      0.50       355\n",
      "           6       0.88      0.82      0.85      1936\n",
      "           7       0.85      0.83      0.84       934\n",
      "           8       0.92      0.90      0.91       407\n",
      "           9       0.93      0.82      0.87       355\n",
      "          10       0.97      0.85      0.90       782\n",
      "          11       0.83      0.57      0.68       440\n",
      "          12       0.89      0.77      0.82       398\n",
      "          13       0.94      0.82      0.87       371\n",
      "          14       0.99      0.95      0.97       481\n",
      "          15       0.95      0.91      0.93       760\n",
      "          16       0.98      0.81      0.89       356\n",
      "          17       0.98      0.98      0.98      3366\n",
      "          18       0.53      0.99      0.69       867\n",
      "          19       0.94      0.88      0.90       645\n",
      "          20       0.93      0.88      0.90       312\n",
      "          21       0.91      0.79      0.84       429\n",
      "\n",
      "    accuracy                           0.86     18902\n",
      "   macro avg       0.88      0.82      0.84     18902\n",
      "weighted avg       0.88      0.86      0.86     18902\n",
      "\n"
     ]
    }
   ],
   "source": [
    "# RandomForestClassifier\n",
    "print(classification_report(y_test, pred))"
   ]
  },
  {
   "cell_type": "code",
   "execution_count": 26,
   "metadata": {},
   "outputs": [
    {
     "data": {
      "text/plain": [
       "array([17])"
      ]
     },
     "execution_count": 26,
     "metadata": {},
     "output_type": "execute_result"
    }
   ],
   "source": [
    "target = [\"ビームス　ナイキ　REACT PRESTO DHARMA\"]\n",
    "prediction = pipeline.predict(target)\n",
    "prediction"
   ]
  },
  {
   "cell_type": "code",
   "execution_count": 25,
   "metadata": {},
   "outputs": [
    {
     "data": {
      "text/plain": [
       "{0: 'エンタメ/ホビー > エンタメその他 > その他',\n",
       " 1: 'エンタメ/ホビー > CD > ポップス/ロック(洋楽)',\n",
       " 2: 'エンタメ/ホビー > CD > ポップス/ロック(邦楽)',\n",
       " 3: 'エンタメ/ホビー > CD > アニメ',\n",
       " 4: 'エンタメ/ホビー > おもちゃ/ぬいぐるみ > キャラクターグッズ',\n",
       " 5: 'エンタメ/ホビー > アニメグッズ > その他',\n",
       " 6: 'エンタメ/ホビー > フィギュア > アニメ/ゲーム',\n",
       " 7: 'エンタメ/ホビー > フィギュア > 特撮',\n",
       " 8: 'レディース > ワンピース > ひざ丈ワンピース',\n",
       " 9: 'インテリア/住まい/日用品 > 文房具 > ペン/マーカー',\n",
       " 10: 'スポーツ/アウトドア > フィッシング > ルアー用品',\n",
       " 11: 'エンタメ/ホビー > おもちゃ/ぬいぐるみ > ぬいぐるみ',\n",
       " 12: 'エンタメ/ホビー > おもちゃ/ぬいぐるみ > 模型/プラモデル',\n",
       " 13: 'メンズ > トップス > Tシャツ/カットソー(半袖/袖なし)',\n",
       " 14: 'スマホ/家電/カメラ > オーディオ機器 > ヘッドフォン/イヤフォン',\n",
       " 15: 'エンタメ/ホビー > トレーディングカード > シングルカード',\n",
       " 16: '楽器 > ギター > エレキギター',\n",
       " 17: 'メンズ > 靴/シューズ > スニーカー',\n",
       " 18: 'エンタメ/ホビー > 美術品/アンティーク > 絵画/タペストリー',\n",
       " 19: 'エンタメ/ホビー > おもちゃ/ぬいぐるみ > ミニカー',\n",
       " 20: 'エンタメ/ホビー > テレビゲーム > 家庭用ゲーム本体',\n",
       " 21: 'エンタメ/ホビー > テレビゲーム > 家庭用ゲームソフト'}"
      ]
     },
     "execution_count": 25,
     "metadata": {},
     "output_type": "execute_result"
    }
   ],
   "source": [
    "idx2category"
   ]
  },
  {
   "cell_type": "code",
   "execution_count": 28,
   "metadata": {},
   "outputs": [],
   "source": [
    "import pickle\n",
    "\n",
    "with open(\"./model/rdmf.pickle\", mode=\"wb\") as f:\n",
    "    pickle.dump(pipeline, f)"
   ]
  },
  {
   "cell_type": "code",
   "execution_count": null,
   "metadata": {},
   "outputs": [],
   "source": []
  }
 ],
 "metadata": {
  "kernelspec": {
   "display_name": "Python 3.9.13 ('general_ml': venv)",
   "language": "python",
   "name": "python3"
  },
  "language_info": {
   "codemirror_mode": {
    "name": "ipython",
    "version": 3
   },
   "file_extension": ".py",
   "mimetype": "text/x-python",
   "name": "python",
   "nbconvert_exporter": "python",
   "pygments_lexer": "ipython3",
   "version": "3.9.13"
  },
  "orig_nbformat": 4,
  "vscode": {
   "interpreter": {
    "hash": "34048b3b47ad6125228a219bda9dafeabdcd477ca19a52f585f9769500af0d43"
   }
  }
 },
 "nbformat": 4,
 "nbformat_minor": 2
}
